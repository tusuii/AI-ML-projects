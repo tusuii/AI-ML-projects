{
  "nbformat": 4,
  "nbformat_minor": 0,
  "metadata": {
    "colab": {
      "provenance": []
    },
    "kernelspec": {
      "name": "python3",
      "display_name": "Python 3"
    },
    "language_info": {
      "name": "python"
    }
  },
  "cells": [
    {
      "cell_type": "code",
      "execution_count": 3,
      "metadata": {
        "id": "Za5yYVTzIHlS"
      },
      "outputs": [],
      "source": [
        "import numpy as np"
      ]
    },
    {
      "cell_type": "markdown",
      "source": [
        "# creating a numpy array"
      ],
      "metadata": {
        "id": "vWzDcoVOKTf8"
      }
    },
    {
      "cell_type": "code",
      "source": [
        "arr1 = np.array([1,2,3,4,5,6,7,8])\n",
        "\n",
        "arr2 = np.arange(10,20)\n",
        "\n",
        "arr3 = np.linspace(0,1,5)"
      ],
      "metadata": {
        "id": "UVV_5PhJIYP-"
      },
      "execution_count": 4,
      "outputs": []
    },
    {
      "cell_type": "code",
      "source": [
        "print(arr1)\n",
        "\n",
        "print(arr2)\n",
        "\n",
        "print(arr3)"
      ],
      "metadata": {
        "colab": {
          "base_uri": "https://localhost:8080/"
        },
        "id": "hL4VKC5IIq7E",
        "outputId": "89d53bda-2f86-4ac5-f70e-1aa3163eac4c"
      },
      "execution_count": 5,
      "outputs": [
        {
          "output_type": "stream",
          "name": "stdout",
          "text": [
            "[1 2 3 4 5 6 7 8]\n",
            "[10 11 12 13 14 15 16 17 18 19]\n",
            "[0.   0.25 0.5  0.75 1.  ]\n"
          ]
        }
      ]
    },
    {
      "cell_type": "markdown",
      "source": [
        "# Indexing and sliceing"
      ],
      "metadata": {
        "id": "Bw0ZGnG3KZSf"
      }
    },
    {
      "cell_type": "code",
      "source": [
        "print(arr1[2])"
      ],
      "metadata": {
        "colab": {
          "base_uri": "https://localhost:8080/"
        },
        "id": "wJaCPR0rKOlY",
        "outputId": "f7ece8dd-f76e-4c3a-e279-0b9783798cec"
      },
      "execution_count": 6,
      "outputs": [
        {
          "output_type": "stream",
          "name": "stdout",
          "text": [
            "3\n"
          ]
        }
      ]
    },
    {
      "cell_type": "code",
      "source": [
        "print(arr1[3:6])"
      ],
      "metadata": {
        "colab": {
          "base_uri": "https://localhost:8080/"
        },
        "id": "Hl3jDiOfK5of",
        "outputId": "6d9ef77f-88ef-4d2f-9968-cb2f04b2fb0f"
      },
      "execution_count": 7,
      "outputs": [
        {
          "output_type": "stream",
          "name": "stdout",
          "text": [
            "[4 5 6]\n"
          ]
        }
      ]
    },
    {
      "cell_type": "markdown",
      "source": [
        "# array operation"
      ],
      "metadata": {
        "id": "Txd37FzWLZrK"
      }
    },
    {
      "cell_type": "code",
      "source": [
        "arr3 = np.array([1,2,3])\n",
        "arr4 = np.array([4,5,6])\n",
        "\n",
        "res = arr3 + arr4\n",
        "\n",
        "print(res)"
      ],
      "metadata": {
        "colab": {
          "base_uri": "https://localhost:8080/"
        },
        "id": "-5ArSc6oLXfv",
        "outputId": "3b38de6a-3093-4837-a0d9-c0197dfea05c"
      },
      "execution_count": 8,
      "outputs": [
        {
          "output_type": "stream",
          "name": "stdout",
          "text": [
            "[5 7 9]\n"
          ]
        }
      ]
    },
    {
      "cell_type": "markdown",
      "source": [
        "# Reshapeing arrays"
      ],
      "metadata": {
        "id": "2OODqZOMMmzh"
      }
    },
    {
      "cell_type": "code",
      "source": [
        "arr5 = np.array([1,2,3,4,5,6])\n",
        "\n",
        "\n",
        "res = arr5.reshape(2,3)\n",
        "\n",
        "print(res)"
      ],
      "metadata": {
        "colab": {
          "base_uri": "https://localhost:8080/"
        },
        "id": "sZwSH4nQMTq8",
        "outputId": "8c1250e9-4b8d-4b05-d749-2834e0d5c3c9"
      },
      "execution_count": 9,
      "outputs": [
        {
          "output_type": "stream",
          "name": "stdout",
          "text": [
            "[[1 2 3]\n",
            " [4 5 6]]\n"
          ]
        }
      ]
    },
    {
      "cell_type": "markdown",
      "source": [
        "# Array concatination"
      ],
      "metadata": {
        "id": "SNN88q3EzAuo"
      }
    },
    {
      "cell_type": "code",
      "source": [
        "con = np.concatenate((arr1,arr2))\n",
        "print(con)"
      ],
      "metadata": {
        "colab": {
          "base_uri": "https://localhost:8080/"
        },
        "id": "cp7PI3lyyR9S",
        "outputId": "573751e0-6127-4fd3-c369-4499f80beaaa"
      },
      "execution_count": 10,
      "outputs": [
        {
          "output_type": "stream",
          "name": "stdout",
          "text": [
            "[ 1  2  3  4  5  6  7  8 10 11 12 13 14 15 16 17 18 19]\n"
          ]
        }
      ]
    },
    {
      "cell_type": "markdown",
      "source": [
        "# Aggregating data"
      ],
      "metadata": {
        "id": "E6UsOgaEzapX"
      }
    },
    {
      "cell_type": "code",
      "source": [
        "arr1 = np.array([1,2,3,4,5,6,45,67,34])\n",
        "\n",
        "mean_val = np.mean(arr1)\n",
        "print(mean_val)"
      ],
      "metadata": {
        "colab": {
          "base_uri": "https://localhost:8080/"
        },
        "id": "19a2VjhZzWLL",
        "outputId": "cba8d718-b35b-4431-ed7f-612b464c8993"
      },
      "execution_count": 11,
      "outputs": [
        {
          "output_type": "stream",
          "name": "stdout",
          "text": [
            "18.555555555555557\n"
          ]
        }
      ]
    },
    {
      "cell_type": "markdown",
      "source": [
        "# filter data"
      ],
      "metadata": {
        "id": "ztO_l228zwKd"
      }
    },
    {
      "cell_type": "code",
      "source": [
        "arr2 = np.array([10,21,5,6,34,56,23])\n",
        "\n",
        "filter_data = arr2[arr2 > 15]\n",
        "\n",
        "print(filter_data)"
      ],
      "metadata": {
        "colab": {
          "base_uri": "https://localhost:8080/"
        },
        "id": "Uw-vMbz-zuyP",
        "outputId": "1f81e5f5-af56-4860-d22b-3071d83c68b1"
      },
      "execution_count": 12,
      "outputs": [
        {
          "output_type": "stream",
          "name": "stdout",
          "text": [
            "[21 34 56 23]\n"
          ]
        }
      ]
    },
    {
      "cell_type": "markdown",
      "source": [
        "# sorting arrays"
      ],
      "metadata": {
        "id": "QxJ0lClY0YY6"
      }
    },
    {
      "cell_type": "code",
      "source": [
        "arr1 = np.array([10,21,5,6,34,56,23])\n",
        "\n",
        "sorted_arr = np.sort(arr1)\n",
        "print(sorted_arr)"
      ],
      "metadata": {
        "colab": {
          "base_uri": "https://localhost:8080/"
        },
        "id": "N29aXqs_0W_1",
        "outputId": "f93c54a8-0bd5-47cb-857c-0df9cfe0b8a3"
      },
      "execution_count": 13,
      "outputs": [
        {
          "output_type": "stream",
          "name": "stdout",
          "text": [
            "[ 5  6 10 21 23 34 56]\n"
          ]
        }
      ]
    },
    {
      "cell_type": "markdown",
      "source": [
        "# Unique Values / frequency"
      ],
      "metadata": {
        "id": "I0S-VBFB0tAl"
      }
    },
    {
      "cell_type": "code",
      "source": [
        "arr1 = np.array([10,15,21,54,12,15,15,15,10])\n",
        "\n",
        "unique_values , unique_counts = np.unique(arr1,return_counts=True)\n",
        "\n",
        "print(unique_values)\n",
        "print(unique_counts)"
      ],
      "metadata": {
        "colab": {
          "base_uri": "https://localhost:8080/"
        },
        "id": "UdR7g_CR0qru",
        "outputId": "5e3670e8-0ee8-4a77-c911-1952835aaf50"
      },
      "execution_count": 15,
      "outputs": [
        {
          "output_type": "stream",
          "name": "stdout",
          "text": [
            "[10 12 15 21 54]\n",
            "[2 1 4 1 1]\n"
          ]
        }
      ]
    },
    {
      "cell_type": "markdown",
      "source": [
        "# Vectorized Operations"
      ],
      "metadata": {
        "id": "lBXkaItM1dGz"
      }
    },
    {
      "cell_type": "code",
      "source": [
        "arr1 = np.array([10,15,21,54,12,15,15,15,10])\n",
        "\n",
        "vec_res = arr1 *2\n",
        "\n",
        "print(vec_res)"
      ],
      "metadata": {
        "colab": {
          "base_uri": "https://localhost:8080/"
        },
        "id": "zUJ38bIX1kFu",
        "outputId": "c066b587-1eeb-44f7-d53f-89daac2a7dcc"
      },
      "execution_count": 17,
      "outputs": [
        {
          "output_type": "stream",
          "name": "stdout",
          "text": [
            "[ 20  30  42 108  24  30  30  30  20]\n"
          ]
        }
      ]
    }
  ]
}